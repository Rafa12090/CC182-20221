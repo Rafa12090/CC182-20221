{
  "cells": [
    {
      "cell_type": "markdown",
      "metadata": {
        "id": "view-in-github",
        "colab_type": "text"
      },
      "source": [
        "<a href=\"https://colab.research.google.com/github/Rafa12090/CC182-20221/blob/main/Template_.ipynb\" target=\"_parent\"><img src=\"https://colab.research.google.com/assets/colab-badge.svg\" alt=\"Open In Colab\"/></a>"
      ]
    },
    {
      "cell_type": "markdown",
      "metadata": {
        "id": "DACs1LVfnHpr"
      },
      "source": [
        "#Ejemplo 1"
      ]
    },
    {
      "cell_type": "markdown",
      "metadata": {
        "id": "bSav7Kf5qK03"
      },
      "source": [
        "*Primer programa"
      ]
    },
    {
      "cell_type": "code",
      "execution_count": null,
      "metadata": {
        "colab": {
          "base_uri": "https://localhost:8080/"
        },
        "id": "FZCMpF2OJN9I",
        "outputId": "313408db-0a92-490f-a5c4-3b5cfdafd09d"
      },
      "outputs": [
        {
          "name": "stdout",
          "output_type": "stream",
          "text": [
            "Writing ejemplo.cpp\n"
          ]
        }
      ],
      "source": [
        "%%writefile ejemplo.cpp\n",
        "#include<iostream>\n",
        "using namespace std;\n",
        "int main(){\n",
        "    cout<<\"UPC, exigete e innova\";\n",
        "    return 0;\n",
        "}"
      ]
    },
    {
      "cell_type": "markdown",
      "metadata": {
        "id": "kHv7nL68qPSn"
      },
      "source": [
        "*Compilación y ejecución"
      ]
    },
    {
      "cell_type": "code",
      "execution_count": null,
      "metadata": {
        "colab": {
          "base_uri": "https://localhost:8080/"
        },
        "id": "01bYwZAEKHTh",
        "outputId": "d0e5b6bf-ae75-4273-d1ea-0a0559bbb1fc"
      },
      "outputs": [
        {
          "name": "stdout",
          "output_type": "stream",
          "text": [
            "UPC, exigete e innova"
          ]
        }
      ],
      "source": [
        "!g++ ejemplo.cpp && ./a.out"
      ]
    },
    {
      "cell_type": "markdown",
      "metadata": {
        "id": "vvoMjXJ2nQ_R"
      },
      "source": [
        "#Ejemplo 2"
      ]
    },
    {
      "cell_type": "markdown",
      "metadata": {
        "id": "d_w6YVK-rIdl"
      },
      "source": [
        "Elaborar un programa en entorno consola que permita almacenar en un arreglo hasta 100 valores enteros. Luego realice lo siguiente:\n",
        "\n",
        "> *Generar los datos del arreglo en forma aleatoria\n",
        "\n",
        "> *Listar en pantalla los elementos del arreglo\n",
        "\n",
        "> *Buscar el mayor y mostrar su ubicación\n",
        "\n",
        "> *Buscar el menor y mostrar su ubicación\n",
        "\n",
        "> *Ordenar el arreglo en forma descendente y mostrarlo en pantalla\n",
        "\n"
      ]
    },
    {
      "cell_type": "markdown",
      "metadata": {
        "id": "1k40GVVlzunj"
      },
      "source": [
        "*Definicion de bibliotecas, clases y funciones"
      ]
    },
    {
      "cell_type": "code",
      "execution_count": null,
      "metadata": {
        "colab": {
          "base_uri": "https://localhost:8080/"
        },
        "id": "n6JI4tqUKWYz",
        "outputId": "750a81d1-95af-4722-ce5b-87b7a588df5f"
      },
      "outputs": [
        {
          "name": "stdout",
          "output_type": "stream",
          "text": [
            "Writing Biblioteca.hpp\n"
          ]
        }
      ],
      "source": [
        "%%writefile Biblioteca.hpp\n",
        "\n",
        "#include <iostream>\n",
        "#include <cstdlib>\n",
        "#include <ctime>\n",
        "\n",
        "using std::cout;\n",
        "using std::cin;\n",
        "//Definicion de la funcion\n",
        "void generar(short* a, size_t n);\n",
        "void listar(short*, size_t);\n",
        "void mayor(short*, size_t);\n",
        "void ordenar(short*, size_t);\n",
        "void mayorPromedio(short* a, size_t n);\n"
      ]
    },
    {
      "cell_type": "markdown",
      "metadata": {
        "id": "EoEBwbC-z5OM"
      },
      "source": [
        "*Implementación de las bibliotecas, clases  y funciones"
      ]
    },
    {
      "cell_type": "code",
      "execution_count": null,
      "metadata": {
        "colab": {
          "base_uri": "https://localhost:8080/"
        },
        "id": "flGviT43Lr3O",
        "outputId": "48f029b4-eb2c-4189-d3e0-8cc3dfc8aeba"
      },
      "outputs": [
        {
          "name": "stdout",
          "output_type": "stream",
          "text": [
            "Writing Biblioteca.cpp\n"
          ]
        }
      ],
      "source": [
        "%%writefile Biblioteca.cpp\n",
        "\n",
        "#include \"Biblioteca.hpp\"\n",
        "\n",
        "void generar(short* a, size_t n){\n",
        "  for(size_t i=0;i<n;++i){\n",
        "      a[i]=rand()%101+100;//rango de 100 a 200    \n",
        "  }  \n",
        "}\n",
        "\n",
        "void listar(short* a, size_t n){\n",
        "for(size_t i=0;i<n;++i){\n",
        "      cout<<i<<\"-> \"<<a[i]<<\"\\n\";\n",
        "  }  \n",
        "}\n",
        "\n",
        "void mayor(short* a, size_t n){\n",
        "  short _mayor=a[0], _pos=-1;\n",
        "  \n",
        "for(size_t i=1;i<n;++i){\n",
        "  if(a[i]>_mayor){\n",
        "      _mayor=a[i];//actualizo el mayor\n",
        "      _pos=i;\n",
        "    }\n",
        "  }\n",
        "  cout<<\"El mayor valor es\"<<_mayor<<\" y se encuentra en la posicion\"<<_pos<<\"\\n\";\n",
        "}\n",
        "void ordenar(short* a, size_t n){\n",
        "  for(int i=0;i<n-1;++i){\n",
        "  for(int j=i+1;j<n;++j){\n",
        "   if(a[i]>a[j]){\n",
        "    short aux=a[i];\n",
        "    a[i]=a[j];\n",
        "    a[j]=aux;\n",
        "  }\n",
        "}\n",
        "    }\n",
        "}\n",
        "void mayorPromedio(short* a, size_t n){\n",
        "  float prom=0.0f;    \n",
        "  //obteniendo el promedio\n",
        "  for(int i=0;i<n-1;++i)\n",
        "        prom+=a[i];\n",
        "  prom/=n;//prom=prom/n   \n",
        "  //listar mayor al promedio\n",
        "  for(int i=0;i<n-1;++i)\n",
        "        if(a[i]>prom)cout<<i<<\"->\"<<a[i]<<\"\\n\";\n",
        "  }"
      ]
    },
    {
      "cell_type": "code",
      "execution_count": null,
      "metadata": {
        "colab": {
          "base_uri": "https://localhost:8080/"
        },
        "id": "DWK3609OMNSp",
        "outputId": "faa9ffce-90f1-4fb4-9f14-14adc8301860"
      },
      "outputs": [
        {
          "name": "stdout",
          "output_type": "stream",
          "text": [
            "Writing ejemplo2.cpp\n"
          ]
        }
      ],
      "source": [
        "%%writefile ejemplo2.cpp\n",
        "#include \"Biblioteca.cpp\"\n",
        "int main() {\n",
        "short* arreglo=new short[100];  \n",
        "srand(time(NULL));//inicializacion de la semilla\n",
        "generar(arreglo,100);\n",
        "listar(arreglo, 100);\n",
        "//mayor(arreglo, 100);  \n",
        "ordenar(arreglo, 100);\n",
        "cout<<\"-------------\\n\";\n",
        "//listar(arreglo, 100);\n",
        "  mayorPromedio(arreglo, 100);\n",
        "}"
      ]
    },
    {
      "cell_type": "markdown",
      "metadata": {
        "id": "HUroJhOIzide"
      },
      "source": [
        "*Compilación y ejecución"
      ]
    },
    {
      "cell_type": "code",
      "execution_count": null,
      "metadata": {
        "colab": {
          "base_uri": "https://localhost:8080/"
        },
        "id": "tFLFgT14MbLi",
        "outputId": "2a55a03b-4bef-45b8-a86d-41f97588d6de"
      },
      "outputs": [
        {
          "name": "stdout",
          "output_type": "stream",
          "text": [
            "0-> 159\n",
            "1-> 177\n",
            "2-> 135\n",
            "3-> 185\n",
            "4-> 147\n",
            "5-> 109\n",
            "6-> 163\n",
            "7-> 153\n",
            "8-> 196\n",
            "9-> 175\n",
            "10-> 171\n",
            "11-> 170\n",
            "12-> 170\n",
            "13-> 167\n",
            "14-> 118\n",
            "15-> 115\n",
            "16-> 122\n",
            "17-> 190\n",
            "18-> 150\n",
            "19-> 197\n",
            "20-> 160\n",
            "21-> 120\n",
            "22-> 137\n",
            "23-> 113\n",
            "24-> 151\n",
            "25-> 144\n",
            "26-> 106\n",
            "27-> 200\n",
            "28-> 173\n",
            "29-> 198\n",
            "30-> 155\n",
            "31-> 198\n",
            "32-> 140\n",
            "33-> 156\n",
            "34-> 183\n",
            "35-> 187\n",
            "36-> 165\n",
            "37-> 145\n",
            "38-> 139\n",
            "39-> 126\n",
            "40-> 186\n",
            "41-> 177\n",
            "42-> 196\n",
            "43-> 156\n",
            "44-> 143\n",
            "45-> 181\n",
            "46-> 137\n",
            "47-> 165\n",
            "48-> 170\n",
            "49-> 187\n",
            "50-> 161\n",
            "51-> 129\n",
            "52-> 106\n",
            "53-> 199\n",
            "54-> 142\n",
            "55-> 123\n",
            "56-> 108\n",
            "57-> 114\n",
            "58-> 123\n",
            "59-> 181\n",
            "60-> 178\n",
            "61-> 144\n",
            "62-> 178\n",
            "63-> 117\n",
            "64-> 200\n",
            "65-> 160\n",
            "66-> 104\n",
            "67-> 130\n",
            "68-> 172\n",
            "69-> 109\n",
            "70-> 156\n",
            "71-> 157\n",
            "72-> 186\n",
            "73-> 117\n",
            "74-> 112\n",
            "75-> 129\n",
            "76-> 198\n",
            "77-> 115\n",
            "78-> 160\n",
            "79-> 167\n",
            "80-> 102\n",
            "81-> 121\n",
            "82-> 162\n",
            "83-> 175\n",
            "84-> 186\n",
            "85-> 103\n",
            "86-> 199\n",
            "87-> 194\n",
            "88-> 118\n",
            "89-> 121\n",
            "90-> 174\n",
            "91-> 196\n",
            "92-> 131\n",
            "93-> 117\n",
            "94-> 180\n",
            "95-> 197\n",
            "96-> 144\n",
            "97-> 184\n",
            "98-> 126\n",
            "99-> 115\n",
            "-------------\n",
            "45->153\n",
            "46->155\n",
            "47->156\n",
            "48->156\n",
            "49->156\n",
            "50->157\n",
            "51->159\n",
            "52->160\n",
            "53->160\n",
            "54->160\n",
            "55->161\n",
            "56->162\n",
            "57->163\n",
            "58->165\n",
            "59->165\n",
            "60->167\n",
            "61->167\n",
            "62->170\n",
            "63->170\n",
            "64->170\n",
            "65->171\n",
            "66->172\n",
            "67->173\n",
            "68->174\n",
            "69->175\n",
            "70->175\n",
            "71->177\n",
            "72->177\n",
            "73->178\n",
            "74->178\n",
            "75->180\n",
            "76->181\n",
            "77->181\n",
            "78->183\n",
            "79->184\n",
            "80->185\n",
            "81->186\n",
            "82->186\n",
            "83->186\n",
            "84->187\n",
            "85->187\n",
            "86->190\n",
            "87->194\n",
            "88->196\n",
            "89->196\n",
            "90->196\n",
            "91->197\n",
            "92->197\n",
            "93->198\n",
            "94->198\n",
            "95->198\n",
            "96->199\n",
            "97->199\n",
            "98->200\n"
          ]
        }
      ],
      "source": [
        "!g++ ejemplo2.cpp && ./a.out"
      ]
    },
    {
      "cell_type": "markdown",
      "metadata": {
        "id": "RJaGWBvAnWug"
      },
      "source": [
        "#Ejemplo 3\n"
      ]
    },
    {
      "cell_type": "markdown",
      "metadata": {
        "id": "dt4odj7Upvyu"
      },
      "source": [
        "*Implementación de las bibliotecas, clases y funciones"
      ]
    },
    {
      "cell_type": "code",
      "execution_count": 53,
      "metadata": {
        "colab": {
          "base_uri": "https://localhost:8080/"
        },
        "id": "reXQS9SLMis2",
        "outputId": "52dc5c48-c4b9-419b-c1a7-4d84b27e7be5"
      },
      "outputs": [
        {
          "output_type": "stream",
          "name": "stdout",
          "text": [
            "Overwriting Biblioteca1.hpp\n"
          ]
        }
      ],
      "source": [
        "%%writefile Biblioteca1.hpp\n",
        "#include <iostream>\n",
        "#include <cstdlib>\n",
        "#include <ctime>\n",
        "using std::cout;\n",
        "using std::cin;\n",
        "template <typename Generico>\n",
        "class MiArreglo{\n",
        "    Generico* a;\n",
        "    size_t id;\n",
        "    size_t n;\n",
        "    public:\n",
        "    MiArreglo(){\n",
        "        n=10;\n",
        "        a=new Generico[n];\n",
        "        id=0;\n",
        "    }\n",
        "    void insertar(Generico g){\n",
        "        if(id<n)\n",
        "            a[id++]=g;\n",
        "    }\n",
        "    void listar(){\n",
        "        for(size_t i=0;i<n;i++)\n",
        "          cout<<i<<\"-> \"<<a[i]<<\"\\n\";\n",
        "    }\n",
        "    void mayor(){\n",
        "        Generico _mayor=a[0];\n",
        "        short _pos=0;\n",
        "        for(size_t i=0;i<n;i++)\n",
        "        {\n",
        "            if(a[i]>_mayor){\n",
        "               _mayor=a[i];\n",
        "               _pos=i;\n",
        "            }\n",
        "        }\n",
        "        cout<<\"\\nEl mayor valor es \"<<_mayor<<\" y se encuentra en la posicion \"<<_pos<<\"\\n\";\n",
        "    }\n",
        "    void menor(){\n",
        "        Generico _menor=a[0];\n",
        "        short _pos=0;\n",
        "        for(size_t i=0;i<n;i++)\n",
        "        {\n",
        "            if(a[i]<_menor){\n",
        "                _menor=a[i];\n",
        "                _pos=i;\n",
        "            }\n",
        "        }\n",
        "        cout<<\"\\nEl menor valor es \"<<_menor<<\" y se encuentra en la posicion \"<<_pos<<\"\\n\";\n",
        "    }\n",
        "    void ordenar_asc(){\n",
        "        Generico aux=a[0];\n",
        "        for(size_t i=0;i<n-1;i++){\n",
        "            for(size_t j=i+1;j<n;j++){\n",
        "                if(a[i]>a[j]){\n",
        "                    aux=a[i];\n",
        "                    a[i]=a[j];\n",
        "                    a[j]=aux;\n",
        "                }\n",
        "            }\n",
        "        }\n",
        "        cout<<\"\\nArreglo en orden ascendente: \"<<\"\\n\";\n",
        "        listar();\n",
        "\n",
        "    }\n",
        "    void ordenar_desc(){\n",
        "        Generico aux=a[0];\n",
        "        for(size_t i=0;i<n-1;i++){\n",
        "            for(size_t j=i+1;j<n;j++){\n",
        "              if(a[i]<a[j]){\n",
        "                  aux=a[i];\n",
        "                  a[i]=a[j];\n",
        "                  a[j]=aux;\n",
        "              }\n",
        "            }\n",
        "        }\n",
        "        cout<<\"\\nArreglo en orden descendente: \"<<\"\\n\";\n",
        "        listar();\n",
        "    }\n",
        "    void mayorPromedio(){\n",
        "        cout<<\"\\nArreglo con los elementos mayores al promedio: \"<<\"\\n\";\n",
        "        Generico prom=0;\n",
        "        for(int i=0;i<n;i++)\n",
        "          prom+=a[i];\n",
        "        prom/=n;\n",
        "        for(int i=0;i<n;i++)\n",
        "          if(a[i]>prom) cout<<i<<\"-> \"<<a[i]<<\"\\n\";\n",
        "    }\n",
        "    \n",
        "};   \n",
        "    "
      ]
    },
    {
      "cell_type": "code",
      "execution_count": null,
      "metadata": {
        "colab": {
          "base_uri": "https://localhost:8080/"
        },
        "id": "EulV3eovORLI",
        "outputId": "9277cb6d-73c0-4155-dd56-aa78df90d6c6"
      },
      "outputs": [
        {
          "name": "stdout",
          "output_type": "stream",
          "text": [
            "Overwriting ejemplo3.cpp\n"
          ]
        }
      ],
      "source": [
        "%%writefile ejemplo3.cpp\n",
        "#include \"Biblioteca1.hpp\"\n",
        "int main(){\n",
        "    MiArreglo<short>* arr1=new MiArreglo<short>();\n",
        "    MiArreglo<float>* arr2=new MiArreglo<float>();\n",
        "    MiArreglo<long>* arr3=new MiArreglo<long>();\n",
        "    MiArreglo<int>* arr4=new MiArreglo<int>();\n",
        "    for(size_t i=0;i<10;++i){\n",
        "        arr1->insertar(i);\n",
        "        arr2->insertar(i*1.654);\n",
        "        arr3->insertar(i*1000000);\n",
        "        arr4->insertar(1+rand()%99);\n",
        "    }\n",
        "    cout<<\"\\nArreglo 1\\n\";\n",
        "    arr1->listar();\n",
        "    arr1->mayor();\n",
        "    arr1->menor();\n",
        "    arr1->ordenar_asc();\n",
        "    arr1->ordenar_desc();\n",
        "    arr1->mayorPromedio();\n",
        "    cout<<\"\\nArreglo 2\\n\";\n",
        "    arr2->listar();\n",
        "    arr2->mayor();\n",
        "    arr2->menor();\n",
        "    arr2->ordenar_asc();\n",
        "    arr2->ordenar_desc();\n",
        "    arr2->mayorPromedio();\n",
        "    cout<<\"\\nArreglo 3\\n\";\n",
        "    arr3->listar();\n",
        "    arr3->mayor();\n",
        "    arr3->menor();\n",
        "    arr3->ordenar_asc();\n",
        "    arr3->ordenar_desc();\n",
        "    arr3->mayorPromedio();\n",
        "    cout<<\"\\nArreglo 4\\n\";\n",
        "    arr4->listar();\n",
        "    arr4->mayor();\n",
        "    arr4->menor();\n",
        "    arr4->ordenar_asc();\n",
        "    arr4->ordenar_desc();\n",
        "    arr4->mayorPromedio();\n",
        "}"
      ]
    },
    {
      "cell_type": "markdown",
      "metadata": {
        "id": "cVqXECNDsC8F"
      },
      "source": [
        "*Compilación y ejecución"
      ]
    },
    {
      "cell_type": "code",
      "execution_count": 54,
      "metadata": {
        "colab": {
          "base_uri": "https://localhost:8080/"
        },
        "id": "DSyOjcCpXsV-",
        "outputId": "6ca414c0-aaeb-4e57-be7d-ab5641c37bb7"
      },
      "outputs": [
        {
          "output_type": "stream",
          "name": "stdout",
          "text": [
            "\n",
            "Arreglo 1\n",
            "0-> 0\n",
            "1-> 1\n",
            "2-> 2\n",
            "3-> 3\n",
            "4-> 4\n",
            "5-> 5\n",
            "6-> 6\n",
            "7-> 7\n",
            "8-> 8\n",
            "9-> 9\n",
            "\n",
            "El mayor valor es 9 y se encuentra en la posicion 9\n",
            "\n",
            "El menor valor es 0 y se encuentra en la posicion 0\n",
            "\n",
            "Arreglo en orden ascendente: \n",
            "0-> 0\n",
            "1-> 1\n",
            "2-> 2\n",
            "3-> 3\n",
            "4-> 4\n",
            "5-> 5\n",
            "6-> 6\n",
            "7-> 7\n",
            "8-> 8\n",
            "9-> 9\n",
            "\n",
            "Arreglo en orden descendente: \n",
            "0-> 9\n",
            "1-> 8\n",
            "2-> 7\n",
            "3-> 6\n",
            "4-> 5\n",
            "5-> 4\n",
            "6-> 3\n",
            "7-> 2\n",
            "8-> 1\n",
            "9-> 0\n",
            "\n",
            "Arreglo con los elementos mayores al promedio: \n",
            "0-> 9\n",
            "1-> 8\n",
            "2-> 7\n",
            "3-> 6\n",
            "4-> 5\n",
            "\n",
            "Arreglo 2\n",
            "0-> 0\n",
            "1-> 1.654\n",
            "2-> 3.308\n",
            "3-> 4.962\n",
            "4-> 6.616\n",
            "5-> 8.27\n",
            "6-> 9.924\n",
            "7-> 11.578\n",
            "8-> 13.232\n",
            "9-> 14.886\n",
            "\n",
            "El mayor valor es 14.886 y se encuentra en la posicion 9\n",
            "\n",
            "El menor valor es 0 y se encuentra en la posicion 0\n",
            "\n",
            "Arreglo en orden ascendente: \n",
            "0-> 0\n",
            "1-> 1.654\n",
            "2-> 3.308\n",
            "3-> 4.962\n",
            "4-> 6.616\n",
            "5-> 8.27\n",
            "6-> 9.924\n",
            "7-> 11.578\n",
            "8-> 13.232\n",
            "9-> 14.886\n",
            "\n",
            "Arreglo en orden descendente: \n",
            "0-> 14.886\n",
            "1-> 13.232\n",
            "2-> 11.578\n",
            "3-> 9.924\n",
            "4-> 8.27\n",
            "5-> 6.616\n",
            "6-> 4.962\n",
            "7-> 3.308\n",
            "8-> 1.654\n",
            "9-> 0\n",
            "\n",
            "Arreglo con los elementos mayores al promedio: \n",
            "0-> 14.886\n",
            "1-> 13.232\n",
            "2-> 11.578\n",
            "3-> 9.924\n",
            "4-> 8.27\n",
            "\n",
            "Arreglo 3\n",
            "0-> 0\n",
            "1-> 1000000\n",
            "2-> 2000000\n",
            "3-> 3000000\n",
            "4-> 4000000\n",
            "5-> 5000000\n",
            "6-> 6000000\n",
            "7-> 7000000\n",
            "8-> 8000000\n",
            "9-> 9000000\n",
            "\n",
            "El mayor valor es 9000000 y se encuentra en la posicion 9\n",
            "\n",
            "El menor valor es 0 y se encuentra en la posicion 0\n",
            "\n",
            "Arreglo en orden ascendente: \n",
            "0-> 0\n",
            "1-> 1000000\n",
            "2-> 2000000\n",
            "3-> 3000000\n",
            "4-> 4000000\n",
            "5-> 5000000\n",
            "6-> 6000000\n",
            "7-> 7000000\n",
            "8-> 8000000\n",
            "9-> 9000000\n",
            "\n",
            "Arreglo en orden descendente: \n",
            "0-> 9000000\n",
            "1-> 8000000\n",
            "2-> 7000000\n",
            "3-> 6000000\n",
            "4-> 5000000\n",
            "5-> 4000000\n",
            "6-> 3000000\n",
            "7-> 2000000\n",
            "8-> 1000000\n",
            "9-> 0\n",
            "\n",
            "Arreglo con los elementos mayores al promedio: \n",
            "0-> 9000000\n",
            "1-> 8000000\n",
            "2-> 7000000\n",
            "3-> 6000000\n",
            "4-> 5000000\n",
            "\n",
            "Arreglo 4\n",
            "0-> 29\n",
            "1-> 44\n",
            "2-> 73\n",
            "3-> 80\n",
            "4-> 24\n",
            "5-> 71\n",
            "6-> 56\n",
            "7-> 40\n",
            "8-> 70\n",
            "9-> 2\n",
            "\n",
            "El mayor valor es 80 y se encuentra en la posicion 3\n",
            "\n",
            "El menor valor es 2 y se encuentra en la posicion 9\n",
            "\n",
            "Arreglo en orden ascendente: \n",
            "0-> 2\n",
            "1-> 24\n",
            "2-> 29\n",
            "3-> 40\n",
            "4-> 44\n",
            "5-> 56\n",
            "6-> 70\n",
            "7-> 71\n",
            "8-> 73\n",
            "9-> 80\n",
            "\n",
            "Arreglo en orden descendente: \n",
            "0-> 80\n",
            "1-> 73\n",
            "2-> 71\n",
            "3-> 70\n",
            "4-> 56\n",
            "5-> 44\n",
            "6-> 40\n",
            "7-> 29\n",
            "8-> 24\n",
            "9-> 2\n",
            "\n",
            "Arreglo con los elementos mayores al promedio: \n",
            "0-> 80\n",
            "1-> 73\n",
            "2-> 71\n",
            "3-> 70\n",
            "4-> 56\n"
          ]
        }
      ],
      "source": [
        "!g++ ejemplo3.cpp && ./a.out"
      ]
    },
    {
      "cell_type": "code",
      "execution_count": null,
      "metadata": {
        "id": "ilwxMp5WXymL"
      },
      "outputs": [],
      "source": [
        ""
      ]
    }
  ],
  "metadata": {
    "colab": {
      "name": "Template_.ipynb",
      "provenance": [],
      "authorship_tag": "ABX9TyPwSdlwDnqs12GfbuNrO6y0",
      "include_colab_link": true
    },
    "kernelspec": {
      "display_name": "Python 3",
      "name": "python3"
    },
    "language_info": {
      "name": "python"
    }
  },
  "nbformat": 4,
  "nbformat_minor": 0
}